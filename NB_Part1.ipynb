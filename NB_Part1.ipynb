{
 "cells": [
  {
   "cell_type": "code",
   "execution_count": 1,
   "id": "4b7ff4ec-9aa5-4537-8798-18253ac6d143",
   "metadata": {},
   "outputs": [],
   "source": [
    "from Part1 import *"
   ]
  },
  {
   "cell_type": "markdown",
   "id": "68491c00-6924-4ae6-9391-3ee3c1dc2bb5",
   "metadata": {},
   "source": [
    "#### 1. Write a single expression that includes lambda, zip, and map functions to select create 52 cards in a deck - 50 pts"
   ]
  },
  {
   "cell_type": "raw",
   "id": "e0684ab6-5d6f-4e45-9d88-07f5da643d4f",
   "metadata": {},
   "source": [
    "vals = [ '2' , '3' , '4' , '5' , '6' , '7' , '8' , '9' , '10' , 'jack' , 'queen' , 'king' , 'ace' ]\n",
    "suits = [ 'spades' , 'clubs' , 'hearts' , 'diamonds' ]\n",
    "\n",
    "deck = set(map(lambda x: (x[0], x[1]), zip(suits*13, vals*4)))"
   ]
  },
  {
   "cell_type": "code",
   "execution_count": 2,
   "id": "e24a16a9-66bf-4cdb-9a27-c2ae6940b0c5",
   "metadata": {},
   "outputs": [
    {
     "name": "stdout",
     "output_type": "stream",
     "text": [
      "{('hearts', '10'), ('spades', '7'), ('clubs', 'king'), ('diamonds', '10'), ('clubs', '4'), ('spades', 'jack'), ('clubs', 'queen'), ('hearts', '7'), ('spades', '5'), ('hearts', 'jack'), ('clubs', '6'), ('diamonds', '7'), ('diamonds', 'jack'), ('hearts', '5'), ('clubs', '2'), ('diamonds', '5'), ('spades', 'ace'), ('spades', '8'), ('spades', '9'), ('hearts', '8'), ('clubs', '10'), ('hearts', 'ace'), ('spades', '3'), ('hearts', '9'), ('diamonds', '8'), ('diamonds', 'ace'), ('hearts', '3'), ('diamonds', '9'), ('clubs', '7'), ('diamonds', '3'), ('clubs', 'jack'), ('spades', 'king'), ('spades', '4'), ('spades', '6'), ('spades', 'queen'), ('hearts', 'king'), ('hearts', '4'), ('clubs', '5'), ('hearts', 'queen'), ('diamonds', 'king'), ('hearts', '6'), ('diamonds', '4'), ('diamonds', 'queen'), ('diamonds', '6'), ('spades', '2'), ('clubs', 'ace'), ('hearts', '2'), ('clubs', '8'), ('clubs', '9'), ('diamonds', '2'), ('clubs', '3'), ('spades', '10')}\n"
     ]
    }
   ],
   "source": [
    "print(deck)"
   ]
  },
  {
   "cell_type": "code",
   "execution_count": 3,
   "id": "a37f0104-aa68-4652-89a5-530fae88f21b",
   "metadata": {},
   "outputs": [
    {
     "data": {
      "text/plain": [
       "52"
      ]
     },
     "execution_count": 3,
     "metadata": {},
     "output_type": "execute_result"
    }
   ],
   "source": [
    "len(deck)"
   ]
  },
  {
   "cell_type": "markdown",
   "id": "2e0c3322-69ad-45b5-948e-e6c5b87fc3d3",
   "metadata": {},
   "source": [
    "#### 2. Write a normal function without using lambda, zip, and map function to create 52 cards in a deck - 50 pt"
   ]
  },
  {
   "cell_type": "markdown",
   "id": "39e89516-d486-49f7-bc19-1d53c8509ae4",
   "metadata": {},
   "source": [
    "def create_deck(vals: 'List of Values',\n",
    "                suits: 'List of Suits') -> 'Set of Deck':\n",
    "    '''\n",
    "    A function which creates a deck of playing cards.\n",
    "    \n",
    "    Inputs:\n",
    "    vals: The values of cards of each suit.\n",
    "    suits: The different suits of cards.\n",
    "\n",
    "    Output:\n",
    "    deck: Set of Cards.\n",
    "    '''\n",
    "    deck = set()\n",
    "    for suit in suits:\n",
    "        for val in vals:\n",
    "            deck.add((suit, val))\n",
    "    return deck"
   ]
  },
  {
   "cell_type": "code",
   "execution_count": 4,
   "id": "276d4b73-45f9-42da-9ce8-676cb1941357",
   "metadata": {},
   "outputs": [
    {
     "data": {
      "text/plain": [
       "{('10', 'clubs'),\n",
       " ('10', 'diamonds'),\n",
       " ('10', 'hearts'),\n",
       " ('10', 'spades'),\n",
       " ('2', 'clubs'),\n",
       " ('2', 'diamonds'),\n",
       " ('2', 'hearts'),\n",
       " ('2', 'spades'),\n",
       " ('3', 'clubs'),\n",
       " ('3', 'diamonds'),\n",
       " ('3', 'hearts'),\n",
       " ('3', 'spades'),\n",
       " ('4', 'clubs'),\n",
       " ('4', 'diamonds'),\n",
       " ('4', 'hearts'),\n",
       " ('4', 'spades'),\n",
       " ('5', 'clubs'),\n",
       " ('5', 'diamonds'),\n",
       " ('5', 'hearts'),\n",
       " ('5', 'spades'),\n",
       " ('6', 'clubs'),\n",
       " ('6', 'diamonds'),\n",
       " ('6', 'hearts'),\n",
       " ('6', 'spades'),\n",
       " ('7', 'clubs'),\n",
       " ('7', 'diamonds'),\n",
       " ('7', 'hearts'),\n",
       " ('7', 'spades'),\n",
       " ('8', 'clubs'),\n",
       " ('8', 'diamonds'),\n",
       " ('8', 'hearts'),\n",
       " ('8', 'spades'),\n",
       " ('9', 'clubs'),\n",
       " ('9', 'diamonds'),\n",
       " ('9', 'hearts'),\n",
       " ('9', 'spades'),\n",
       " ('ace', 'clubs'),\n",
       " ('ace', 'diamonds'),\n",
       " ('ace', 'hearts'),\n",
       " ('ace', 'spades'),\n",
       " ('jack', 'clubs'),\n",
       " ('jack', 'diamonds'),\n",
       " ('jack', 'hearts'),\n",
       " ('jack', 'spades'),\n",
       " ('king', 'clubs'),\n",
       " ('king', 'diamonds'),\n",
       " ('king', 'hearts'),\n",
       " ('king', 'spades'),\n",
       " ('queen', 'clubs'),\n",
       " ('queen', 'diamonds'),\n",
       " ('queen', 'hearts'),\n",
       " ('queen', 'spades')}"
      ]
     },
     "execution_count": 4,
     "metadata": {},
     "output_type": "execute_result"
    }
   ],
   "source": [
    "create_deck(suits, vals)"
   ]
  }
 ],
 "metadata": {
  "kernelspec": {
   "display_name": "Python 3",
   "language": "python",
   "name": "python3"
  },
  "language_info": {
   "codemirror_mode": {
    "name": "ipython",
    "version": 3
   },
   "file_extension": ".py",
   "mimetype": "text/x-python",
   "name": "python",
   "nbconvert_exporter": "python",
   "pygments_lexer": "ipython3",
   "version": "3.8.5"
  }
 },
 "nbformat": 4,
 "nbformat_minor": 5
}
