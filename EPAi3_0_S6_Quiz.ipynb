{
  "nbformat": 4,
  "nbformat_minor": 0,
  "metadata": {
    "colab": {
      "name": "EPAi3.0_S6 - Quiz.ipynb",
      "provenance": [],
      "collapsed_sections": [],
      "authorship_tag": "ABX9TyM5HIwFx07MT219Z26UyVtt",
      "include_colab_link": true
    },
    "kernelspec": {
      "name": "python3",
      "display_name": "Python 3"
    },
    "language_info": {
      "name": "python"
    }
  },
  "cells": [
    {
      "cell_type": "markdown",
      "metadata": {
        "id": "view-in-github",
        "colab_type": "text"
      },
      "source": [
        "<a href=\"https://colab.research.google.com/github/NaviDSX/EPAS6/blob/main/EPAi3_0_S6_Quiz.ipynb\" target=\"_parent\"><img src=\"https://colab.research.google.com/assets/colab-badge.svg\" alt=\"Open In Colab\"/></a>"
      ]
    },
    {
      "cell_type": "code",
      "metadata": {
        "colab": {
          "base_uri": "https://localhost:8080/"
        },
        "id": "YVjQw5BZs4K0",
        "outputId": "2aa39f36-bbd3-435f-b6cf-3df04a4f7f65"
      },
      "source": [
        "from datetime import datetime\n",
        "print(datetime.now())"
      ],
      "execution_count": 1,
      "outputs": [
        {
          "output_type": "stream",
          "text": [
            "2021-06-11 20:22:04.911155\n"
          ],
          "name": "stdout"
        }
      ]
    },
    {
      "cell_type": "code",
      "metadata": {
        "colab": {
          "base_uri": "https://localhost:8080/"
        },
        "id": "41QtgXzns7g4",
        "outputId": "cfe5ac7c-40b2-4a5f-caf3-b1c1a41e07c1"
      },
      "source": [
        "import random\n",
        "\n",
        "def dt_of_bth():\n",
        "  mnth = list(range(1,13))\n",
        "  mnth_id = 'Jan Feb Mar Apr May Jun Jul Aug Sep Oct Nov Dec'.split(' ')\n",
        "  mnth = dict(zip(mnth,mnth_id))\n",
        "\n",
        "  mnths = random.randint(1,12)\n",
        "  year = random.randint(1901,2020)\n",
        "  if mnths in [1,3,5,7,8,10,12]:\n",
        "    dt = random.randint(1,31)\n",
        "  elif mnths in [4,6,9,11]:\n",
        "    dt = random.randint(1,30)\n",
        "  else:\n",
        "    if year%4==0:\n",
        "      dt = random.randint(1,29)\n",
        "    else:\n",
        "      dt = random.randint(1,28)\n",
        "\n",
        "  if    dt in (1,21,31):  dt = str(dt)+'st'\n",
        "  elif  dt in (2,22):     dt = str(dt)+'nd'\n",
        "  elif  dt in (3,23):     dt = str(dt)+'rd'\n",
        "  else:                   dt = str(dt)+'th'\n",
        "\n",
        "  result = mnth[mnths]+', '+dt+', '+str(year)+'.'\n",
        "\n",
        "  return result  \n",
        "\n",
        "[dt_of_bth() for i in range(26)]"
      ],
      "execution_count": 5,
      "outputs": [
        {
          "output_type": "execute_result",
          "data": {
            "text/plain": [
              "['Jun, 24th, 2004.',\n",
              " 'Dec, 14th, 1972.',\n",
              " 'Feb, 1st, 1945.',\n",
              " 'Jul, 1st, 1974.',\n",
              " 'Oct, 2nd, 1975.',\n",
              " 'Feb, 24th, 1945.',\n",
              " 'Mar, 24th, 1921.',\n",
              " 'Sep, 14th, 2001.',\n",
              " 'Mar, 27th, 1979.',\n",
              " 'Sep, 28th, 1998.',\n",
              " 'May, 14th, 1945.',\n",
              " 'Jan, 2nd, 1992.',\n",
              " 'Oct, 23rd, 1904.',\n",
              " 'Nov, 10th, 1984.',\n",
              " 'Oct, 13th, 1978.',\n",
              " 'Mar, 22nd, 1992.',\n",
              " 'Feb, 15th, 1954.',\n",
              " 'Jul, 25th, 1935.',\n",
              " 'Oct, 30th, 1969.',\n",
              " 'May, 25th, 2007.',\n",
              " 'Dec, 31st, 1963.',\n",
              " 'Aug, 31st, 1953.',\n",
              " 'Nov, 17th, 1923.',\n",
              " 'Nov, 25th, 1970.',\n",
              " 'Oct, 29th, 1999.',\n",
              " 'Apr, 27th, 1961.']"
            ]
          },
          "metadata": {
            "tags": []
          },
          "execution_count": 5
        }
      ]
    },
    {
      "cell_type": "code",
      "metadata": {
        "colab": {
          "base_uri": "https://localhost:8080/"
        },
        "id": "6yV9Ginbs7yG",
        "outputId": "454582f0-ab73-433f-8eb2-895372e5736c"
      },
      "source": [
        "from datetime import datetime\n",
        "print(datetime.now())"
      ],
      "execution_count": 6,
      "outputs": [
        {
          "output_type": "stream",
          "text": [
            "2021-06-11 20:38:30.955135\n"
          ],
          "name": "stdout"
        }
      ]
    }
  ]
}